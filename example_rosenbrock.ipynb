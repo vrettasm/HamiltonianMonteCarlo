{
 "cells": [
  {
   "cell_type": "markdown",
   "id": "5b14b87b-c6c6-42aa-9dca-9f1f2199e70b",
   "metadata": {},
   "source": [
    "# Example: Rosenbrock function\n",
    "\n",
    "For more information of the Rosenbrock function please visit: https://en.wikipedia.org/wiki/Rosenbrock_function"
   ]
  },
  {
   "cell_type": "code",
   "execution_count": 1,
   "id": "47dd9f89",
   "metadata": {},
   "outputs": [],
   "source": [
    "# General imports.\n",
    "import numpy as np\n",
    "import pandas as pd\n",
    "import matplotlib.pyplot as plt\n",
    "\n",
    "# Import local HMC implementation.\n",
    "from src.hmc_sampler import HMC"
   ]
  },
  {
   "cell_type": "code",
   "execution_count": null,
   "id": "96587545",
   "metadata": {},
   "outputs": [],
   "source": []
  },
  {
   "cell_type": "code",
   "execution_count": 2,
   "id": "875cbe2a",
   "metadata": {},
   "outputs": [],
   "source": [
    "# Define the Rosenbrock function and its gradient.\n",
    "def rose_func(v, a=1.15, b=0.5):\n",
    "    x, y = v\n",
    "    return (a - x)**2 + b*(y - x**2)**2\n",
    "# _end_def_\n",
    "\n",
    "def rose_grad(v, a=1.15, b=0.5):\n",
    "    x, y = v\n",
    "    return np.array([2.0*(x - a) - 4.0*b*x*(y - x**2),\n",
    "                     2.0*b*(y - x**2)])\n",
    "# _end_def_"
   ]
  },
  {
   "cell_type": "code",
   "execution_count": null,
   "id": "8c75ccbc",
   "metadata": {},
   "outputs": [],
   "source": []
  },
  {
   "cell_type": "code",
   "execution_count": 3,
   "id": "3a6e131e",
   "metadata": {},
   "outputs": [
    {
     "name": "stdout",
     "output_type": "stream",
     "text": [
      " HMC Id(4815431040): \n",
      " Func(x)=<function rose_func at 0x11f0b84c0> \n",
      " Grad(x)=<function rose_grad at 0x120d89550> \n",
      " Options:\n",
      " \tn_samples: 2500\n",
      "\tn_omitted: 500\n",
      "\tkappa: 50\n",
      "\td_tau: 0.02\n",
      "\tgrad_check: True\n",
      "\tgeneralized: False\n",
      "\tverbose: True\n",
      "\trng_seed: RandomState(MT19937)\n",
      "\n"
     ]
    }
   ],
   "source": [
    "# Create an HMC object.\n",
    "rose_hmc = HMC(rose_func, rose_grad, n_omitted=500, n_samples=2_500,\n",
    "               verbose=True, grad_check=True, rng_seed=911, kappa=50, d_tau=0.02)\n",
    "\n",
    "# Print out the settings.\n",
    "print(rose_hmc)"
   ]
  },
  {
   "cell_type": "code",
   "execution_count": null,
   "id": "3c39fc32",
   "metadata": {},
   "outputs": [
    {
     "name": "stdout",
     "output_type": "stream",
     "text": [
      "Checking gradients <BEFORE> sampling ... \n",
      "Error <BEFORE> = 2.861022947442393e-07\n",
      " >>> HMC started \n"
     ]
    },
    {
     "name": "stderr",
     "output_type": "stream",
     "text": [
      " Iter=0 - E=3.844 - Acceptance=1.000:  28%|██▊       | 839/3000 [00:01<00:02, 759.50it/s]"
     ]
    }
   ],
   "source": [
    "# Run the sampling from x0 starting point.\n",
    "results = rose_hmc(x0=[0.0, 10.0])"
   ]
  },
  {
   "cell_type": "code",
   "execution_count": null,
   "id": "d233350f",
   "metadata": {},
   "outputs": [],
   "source": [
    "# It is easier to convert the data directly to pandas.\n",
    "df = pd.DataFrame(results[\"Samples\"])"
   ]
  },
  {
   "cell_type": "code",
   "execution_count": null,
   "id": "e1640ae8",
   "metadata": {},
   "outputs": [],
   "source": [
    "# Step size.\n",
    "delta = 0.01\n",
    "\n",
    "# Discretized x/y dimensions.\n",
    "xk = np.arange(-2.0, 4.1, delta)\n",
    "yk = np.arange(-5.0, 15.5, delta)\n",
    "\n",
    "# Get the meshgrid.\n",
    "X, Y = np.meshgrid(xk, yk)\n",
    "\n",
    "# Evaluate the function.\n",
    "Z = rose_func([X, Y], a=1.15, b=0.5)\n",
    "\n",
    "# This is the \"real\" function.\n",
    "plt.contourf(X, Y, Z, levels=40);\n",
    "plt.xlabel(\"X\"); plt.ylabel(\"Y\");\n",
    "plt.title(\"Rosenbrock function\");"
   ]
  },
  {
   "cell_type": "code",
   "execution_count": null,
   "id": "e0d77a1b",
   "metadata": {},
   "outputs": [],
   "source": [
    "# Create a large figure.\n",
    "fig, ax = plt.subplots(nrows=1, ncols=2, figsize=(18, 8))\n",
    "\n",
    "ax[0].contour(X, Y, Z, levels=40);\n",
    "ax[0].plot(df[0], df[1], 'o--', alpha=0.75);\n",
    "ax[0].set_xlabel(\"x\"); ax[0].set_ylabel(\"y\");\n",
    "ax[0].grid(True); ax[0].set_title(\"Samples\");\n",
    "\n",
    "ax[1].contour(X, Y, Z, levels=40);\n",
    "ax[1].hexbin(df[0], df[1], bins=100, cmap='gist_heat_r');\n",
    "ax[1].set_xlabel(\"x\"); ax[1].set_ylabel(\"y\");\n",
    "ax[1].grid(True); ax[1].set_title(\"Density\");"
   ]
  },
  {
   "cell_type": "code",
   "execution_count": null,
   "id": "9c0c62f7",
   "metadata": {},
   "outputs": [],
   "source": [
    "# ACF lag value.\n",
    "lag_n = 40\n",
    "\n",
    "# Plot the ACF.\n",
    "plt.stem(rose_hmc.acf(lag_n=lag_n));\n",
    "\n",
    "plt.grid(True);\n",
    "\n",
    "plt.title(\"Autocorrelation\");\n",
    "\n",
    "plt.xlim([-1, lag_n+1])\n",
    "\n",
    "plt.ylim([-1.5, 1.5])\n",
    "\n",
    "plt.xticks(range(0, lag_n+1, 5))\n",
    "\n",
    "plt.xlabel(\"Lag\");"
   ]
  },
  {
   "cell_type": "code",
   "execution_count": null,
   "id": "cd442430",
   "metadata": {},
   "outputs": [],
   "source": []
  }
 ],
 "metadata": {
  "kernelspec": {
   "display_name": "tensorflow_25",
   "language": "python",
   "name": "tensorflow_25"
  },
  "language_info": {
   "codemirror_mode": {
    "name": "ipython",
    "version": 3
   },
   "file_extension": ".py",
   "mimetype": "text/x-python",
   "name": "python",
   "nbconvert_exporter": "python",
   "pygments_lexer": "ipython3",
   "version": "3.8.12"
  }
 },
 "nbformat": 4,
 "nbformat_minor": 5
}
